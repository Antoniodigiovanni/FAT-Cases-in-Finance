{
 "cells": [
  {
   "cell_type": "code",
   "execution_count": 1,
   "metadata": {},
   "outputs": [],
   "source": [
    "import datetime as dt\n",
    "import pandas as pd\n",
    "import numpy as np\n",
    "import matplotlib.pyplot as plt\n",
    "from sklearn.linear_model import LinearRegression\n",
    "import statsmodels.api as sm\n",
    "from scipy import stats\n",
    "import seaborn as sns"
   ]
  },
  {
   "cell_type": "code",
   "execution_count": null,
   "metadata": {},
   "outputs": [],
   "source": [
    "path = \"C:\\\\Users\\\\Marvin\\\\OneDrive\\\\Desktop\\\\Studium\\\\SS21\\\\Seminar\\\\fat_monthly.csv\"\n",
    "fat_monthly = pd.read_csv(path)\n",
    "fat_monthly.head()"
   ]
  },
  {
   "cell_type": "code",
   "execution_count": null,
   "metadata": {},
   "outputs": [],
   "source": [
    "fat_monthly.drop(\"Unnamed: 0\", axis=1, inplace=True)\n",
    "fat_monthly = fat_monthly.dropna(subset=[\"MV.USD\", \"RET.USD\"])\n",
    "fat_monthly[\"RM\"] = 0\n",
    "fat_monthly.head()"
   ]
  },
  {
   "cell_type": "code",
   "execution_count": null,
   "metadata": {},
   "outputs": [],
   "source": [
    "fat_monthly.isna().sum()"
   ]
  },
  {
   "cell_type": "code",
   "execution_count": null,
   "metadata": {},
   "outputs": [],
   "source": [
    "end_of_1987 = fat_monthly.loc[fat_monthly[\"Date\"] == \"1987-12-31\"]\n",
    "end_of_1987 = end_of_1987.sort_values(by=\"MV.USD\", ascending=False)\n",
    "end_of_1987\n",
    "#Why negative return in local currency and positive currency in USD?"
   ]
  },
  {
   "cell_type": "code",
   "execution_count": null,
   "metadata": {},
   "outputs": [],
   "source": [
    "rm = 0\n",
    "mv_total = end_of_1987[\"MV.USD\"].sum()\n",
    "for index, row in end_of_1987.iterrows():\n",
    "    rm += (row[\"MV.USD\"] / mv_total) * row[\"RET.USD\"]\n",
    "    print(rm)"
   ]
  },
  {
   "cell_type": "code",
   "execution_count": null,
   "metadata": {},
   "outputs": [],
   "source": [
    "end_of_1987[\"RM\"] = rm\n",
    "end_of_1987"
   ]
  },
  {
   "cell_type": "code",
   "execution_count": null,
   "metadata": {},
   "outputs": [],
   "source": [
    "#Calculate the Market Return for every Date in our dataset\n",
    "for date in fat_monthly[\"Date\"].unique():\n",
    "    rm = 0\n",
    "    mv_total = np.array(fat_monthly.loc[fat_monthly[\"Date\"] == date, [\"MV.USD\"]].sum())\n",
    "    mv_comps = np.array(fat_monthly.loc[fat_monthly[\"Date\"] == date, [\"MV.USD\"]])\n",
    "    rets = np.array(fat_monthly.loc[fat_monthly[\"Date\"] == date, [\"RET.USD\"]])\n",
    "    rm = sum((mv_comps / mv_total) * rets)\n",
    "    fat_monthly.loc[fat_monthly[\"Date\"] == date, [\"RM\"]] = rm\n",
    "    print(fat_monthly.loc[fat_monthly[\"Date\"] == date])"
   ]
  },
  {
   "cell_type": "code",
   "execution_count": null,
   "metadata": {},
   "outputs": [],
   "source": [
    "fat_monthly.to_csv(\"fat_monthly_w_rm.csv\")"
   ]
  },
  {
   "cell_type": "code",
   "execution_count": null,
   "metadata": {},
   "outputs": [],
   "source": [
    "factor_path = \"C:\\\\Users\\\\Marvin\\\\OneDrive\\\\Desktop\\\\Studium\\\\SS21\\\\Seminar\\\\F-F_Research_Data_Factors.csv\"\n",
    "ff_factors = pd.read_csv(factor_path, skiprows=3)\n",
    "ff_factors = ff_factors.rename({\"Unnamed: 0\" : \"Date\"}, axis=1)\n",
    "ff_factors.head()"
   ]
  },
  {
   "cell_type": "code",
   "execution_count": null,
   "metadata": {},
   "outputs": [],
   "source": [
    "ff_factors[\"Date\"] = pd.to_datetime(ff_factors[\"Date\"], format=\"%Y%m\")\n",
    "fat_monthly[\"Date\"] = pd.to_datetime(fat_monthly[\"Date\"], format=\"%Y-%m-%d\")\n",
    "ff_factors[\"ym\"] = ff_factors[\"Date\"].dt.strftime(\"%b %Y\")\n",
    "fat_monthly[\"ym\"] = fat_monthly[\"Date\"].dt.strftime(\"%b %Y\")\n",
    "\n",
    "ff_factors.drop([\"Date\",\"Mkt-RF\", \"SMB\", \"HML\"], axis=1, inplace=True)\n",
    "\n",
    "fat_monthly = fat_monthly.merge(ff_factors, on=\"ym\")\n",
    "fat_monthly"
   ]
  },
  {
   "cell_type": "code",
   "execution_count": null,
   "metadata": {},
   "outputs": [],
   "source": [
    "fat_monthly[\"RMRF\"] = fat_monthly[\"RM\"] - fat_monthly[\"RF\"]\n",
    "fat_monthly[\"Beta\"] = 0"
   ]
  },
  {
   "cell_type": "code",
   "execution_count": null,
   "metadata": {},
   "outputs": [],
   "source": [
    "len(fat_monthly[\"Id\"].unique())"
   ]
  },
  {
   "cell_type": "code",
   "execution_count": null,
   "metadata": {},
   "outputs": [],
   "source": [
    "single_comp = fat_monthly.loc[fat_monthly[\"Id\"] == \"13039P\"]\n",
    "single_comp"
   ]
  },
  {
   "cell_type": "code",
   "execution_count": null,
   "metadata": {},
   "outputs": [],
   "source": [
    "x = single_comp[\"RM\"]\n",
    "y = single_comp[\"RET.USD\"]\n",
    "plt.scatter(x, y)\n",
    "plt.show()"
   ]
  },
  {
   "cell_type": "code",
   "execution_count": null,
   "metadata": {},
   "outputs": [],
   "source": [
    "sns.regplot(x, y)"
   ]
  },
  {
   "cell_type": "code",
   "execution_count": null,
   "metadata": {},
   "outputs": [],
   "source": [
    "def time_series_regression(df, factors):\n",
    "    \"\"\"Calculates the market betas with time-series regression\"\"\"\n",
    "    X = df[factors]\n",
    "    y = df[\"RET.USD\"]\n",
    "    X2 = sm.add_constant(X)\n",
    "    ols  = sm.OLS(y, X2)\n",
    "    mod = ols.fit()\n",
    "    return mod"
   ]
  },
  {
   "cell_type": "code",
   "execution_count": null,
   "metadata": {},
   "outputs": [],
   "source": [
    "mod = time_series_regression(single_comp, \"RM\")\n",
    "mod.params"
   ]
  },
  {
   "cell_type": "code",
   "execution_count": null,
   "metadata": {},
   "outputs": [],
   "source": [
    "# Market beta for every stock in our sample\n",
    "#If else statement because there is one stock with only one entry that doesnt have an intercept\n",
    "count = 0\n",
    "for stock in fat_monthly[\"Id\"].unique():\n",
    "    temp = fat_monthly.loc[fat_monthly[\"Id\"] == stock]\n",
    "    mod = time_series_regression(temp, \"RM\")\n",
    "    if len(mod.params == 1):\n",
    "        fat_monthly.loc[fat_monthly[\"Id\"] == stock, [\"Beta\"]] = mod.params[0]\n",
    "    else:\n",
    "        fat_monthly.loc[fat_monthly[\"Id\"] == stock, [\"Beta\"]] = mod.params[1]\n",
    "    count += 1\n",
    "    print(count)"
   ]
  },
  {
   "cell_type": "code",
   "execution_count": null,
   "metadata": {},
   "outputs": [],
   "source": [
    "fat_monthly.to_csv(\"fat_monthly_beta.csv\")"
   ]
  },
  {
   "cell_type": "code",
   "execution_count": null,
   "metadata": {},
   "outputs": [],
   "source": [
    "fat_yearly = pd.read_csv(\"C:\\\\Users\\\\Marvin\\\\OneDrive\\\\Desktop\\\\Studium\\\\SS21\\\\Seminar\\\\fat_yearly.csv\")\n",
    "fat_yearly.drop(\"Unnamed: 0\", axis=1, inplace=True)\n",
    "fat_yearly"
   ]
  },
  {
   "cell_type": "code",
   "execution_count": null,
   "metadata": {},
   "outputs": [],
   "source": [
    "fat_monthly.loc[fat_monthly[\"Id\"] == \"13039P\"].sort_values(\"Date\")"
   ]
  },
  {
   "cell_type": "code",
   "execution_count": null,
   "metadata": {},
   "outputs": [],
   "source": [
    "#Rank the Stocks into quintiles\n",
    "test = fat_monthly.loc[fat_monthly[\"Date\"] == \"1979-12-31\"]\n",
    "np.ceil(test[\"Beta\"].rank(pct=True).mul(5)).sort_values()"
   ]
  },
  {
   "cell_type": "code",
   "execution_count": null,
   "metadata": {},
   "outputs": [],
   "source": [
    "fat_yearly.isna().sum()"
   ]
  }
 ],
 "metadata": {
  "kernelspec": {
   "display_name": "Python 3",
   "language": "python",
   "name": "python3"
  },
  "language_info": {
   "codemirror_mode": {
    "name": "ipython",
    "version": 3
   },
   "file_extension": ".py",
   "mimetype": "text/x-python",
   "name": "python",
   "nbconvert_exporter": "python",
   "pygments_lexer": "ipython3",
   "version": "3.7.4"
  }
 },
 "nbformat": 4,
 "nbformat_minor": 2
}
