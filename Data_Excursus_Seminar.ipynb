{
 "cells": [
  {
   "cell_type": "code",
   "execution_count": 2,
   "metadata": {},
   "outputs": [],
   "source": [
    "import datetime as dt\n",
    "import pandas as pd\n",
    "import numpy as np\n",
    "import matplotlib.pyplot as plt\n",
    "from sklearn.linear_model import LinearRegression\n",
    "import statsmodels.api as sm\n",
    "from scipy import stats"
   ]
  },
  {
   "cell_type": "code",
   "execution_count": 3,
   "metadata": {},
   "outputs": [],
   "source": [
    "data_path = \"C:\\\\Users\\\\Marvin\\\\OneDrive\\\\Desktop\\\\Studium\\\\SS21\\\\Seminar\\\\test_data.csv\"\n",
    "factor_path = \"C:\\\\Users\\\\Marvin\\\\OneDrive\\\\Desktop\\\\Studium\\\\SS21\\\\Seminar\\\\Data_Excursus2\\\\data2.csv\""
   ]
  },
  {
   "cell_type": "code",
   "execution_count": 4,
   "metadata": {},
   "outputs": [],
   "source": [
    "def prepare_data(data_path, factor_path):\n",
    "    data = pd.read_csv(data_path)\n",
    "    factors = pd.read_csv(factor_path)\n",
    "    factors.drop(\"Unnamed: 0\", axis=1, inplace=True)\n",
    "    factors[\"Date\"] = pd.to_datetime(factors[\"Date\"])\n",
    "    factors[\"month_year\"] = pd.to_datetime(factors[\"Date\"]).dt.to_period(\"M\")\n",
    "    data['month_year'] = pd.to_datetime(data['Date']).dt.to_period('M')\n",
    "    df = data.merge(factors, on=\"month_year\", how=\"left\")\n",
    "    df.drop(\"Date_y\", axis=1, inplace=True)\n",
    "    df = df.rename({\"Date_x\" : \"Date\"}, axis=1)\n",
    "    return df"
   ]
  },
  {
   "cell_type": "code",
   "execution_count": 6,
   "metadata": {},
   "outputs": [],
   "source": [
    "df = prepare_data(data_path, factor_path)"
   ]
  },
  {
   "cell_type": "code",
   "execution_count": 4,
   "metadata": {},
   "outputs": [],
   "source": [
    "data = pd.read_csv(data_path)\n",
    "data['month_year'] = pd.to_datetime(data['Date']).dt.to_period('M')"
   ]
  },
  {
   "cell_type": "code",
   "execution_count": 7,
   "metadata": {},
   "outputs": [],
   "source": [
    "adidas = df.loc[df[\"Id\"] == \"866013\"]"
   ]
  },
  {
   "cell_type": "code",
   "execution_count": 8,
   "metadata": {},
   "outputs": [
    {
     "data": {
      "text/html": [
       "<div>\n",
       "<style scoped>\n",
       "    .dataframe tbody tr th:only-of-type {\n",
       "        vertical-align: middle;\n",
       "    }\n",
       "\n",
       "    .dataframe tbody tr th {\n",
       "        vertical-align: top;\n",
       "    }\n",
       "\n",
       "    .dataframe thead th {\n",
       "        text-align: right;\n",
       "    }\n",
       "</style>\n",
       "<table border=\"1\" class=\"dataframe\">\n",
       "  <thead>\n",
       "    <tr style=\"text-align: right;\">\n",
       "      <th></th>\n",
       "      <th>Id</th>\n",
       "      <th>Date</th>\n",
       "      <th>RET.USD</th>\n",
       "      <th>LMV.USD</th>\n",
       "      <th>BETA</th>\n",
       "      <th>EOJ_Marketcap</th>\n",
       "      <th>BM</th>\n",
       "      <th>month_year</th>\n",
       "      <th>RMRF</th>\n",
       "      <th>SMB</th>\n",
       "      <th>HML</th>\n",
       "      <th>WML</th>\n",
       "    </tr>\n",
       "  </thead>\n",
       "  <tbody>\n",
       "    <tr>\n",
       "      <td>37804</td>\n",
       "      <td>866013</td>\n",
       "      <td>1998-12-31</td>\n",
       "      <td>-0.68</td>\n",
       "      <td>4962.06</td>\n",
       "      <td>0.737476</td>\n",
       "      <td>7901.55</td>\n",
       "      <td>0.126818</td>\n",
       "      <td>1998-12</td>\n",
       "      <td>2.508973</td>\n",
       "      <td>-0.919234</td>\n",
       "      <td>1.783595</td>\n",
       "      <td>2.738842</td>\n",
       "    </tr>\n",
       "    <tr>\n",
       "      <td>38337</td>\n",
       "      <td>866013</td>\n",
       "      <td>1999-01-29</td>\n",
       "      <td>-23.45</td>\n",
       "      <td>4928.27</td>\n",
       "      <td>0.732626</td>\n",
       "      <td>7901.55</td>\n",
       "      <td>0.126818</td>\n",
       "      <td>1999-01</td>\n",
       "      <td>2.147219</td>\n",
       "      <td>-4.477452</td>\n",
       "      <td>-2.955716</td>\n",
       "      <td>14.725757</td>\n",
       "    </tr>\n",
       "    <tr>\n",
       "      <td>38869</td>\n",
       "      <td>866013</td>\n",
       "      <td>1999-02-26</td>\n",
       "      <td>15.08</td>\n",
       "      <td>3772.56</td>\n",
       "      <td>0.639363</td>\n",
       "      <td>7901.55</td>\n",
       "      <td>0.126818</td>\n",
       "      <td>1999-02</td>\n",
       "      <td>-6.237935</td>\n",
       "      <td>6.028959</td>\n",
       "      <td>1.597353</td>\n",
       "      <td>1.515690</td>\n",
       "    </tr>\n",
       "    <tr>\n",
       "      <td>39400</td>\n",
       "      <td>866013</td>\n",
       "      <td>1999-03-31</td>\n",
       "      <td>-6.79</td>\n",
       "      <td>4341.47</td>\n",
       "      <td>0.465504</td>\n",
       "      <td>7901.55</td>\n",
       "      <td>0.126818</td>\n",
       "      <td>1999-03</td>\n",
       "      <td>-3.893391</td>\n",
       "      <td>0.127169</td>\n",
       "      <td>0.942076</td>\n",
       "      <td>-2.676169</td>\n",
       "    </tr>\n",
       "    <tr>\n",
       "      <td>39930</td>\n",
       "      <td>866013</td>\n",
       "      <td>1999-04-30</td>\n",
       "      <td>10.50</td>\n",
       "      <td>4046.69</td>\n",
       "      <td>0.513188</td>\n",
       "      <td>7901.55</td>\n",
       "      <td>0.126818</td>\n",
       "      <td>1999-04</td>\n",
       "      <td>4.597983</td>\n",
       "      <td>-3.934642</td>\n",
       "      <td>2.949789</td>\n",
       "      <td>-7.332588</td>\n",
       "    </tr>\n",
       "    <tr>\n",
       "      <td>...</td>\n",
       "      <td>...</td>\n",
       "      <td>...</td>\n",
       "      <td>...</td>\n",
       "      <td>...</td>\n",
       "      <td>...</td>\n",
       "      <td>...</td>\n",
       "      <td>...</td>\n",
       "      <td>...</td>\n",
       "      <td>...</td>\n",
       "      <td>...</td>\n",
       "      <td>...</td>\n",
       "      <td>...</td>\n",
       "    </tr>\n",
       "    <tr>\n",
       "      <td>185432</td>\n",
       "      <td>866013</td>\n",
       "      <td>2017-08-31</td>\n",
       "      <td>-1.24</td>\n",
       "      <td>47537.94</td>\n",
       "      <td>0.970016</td>\n",
       "      <td>40262.33</td>\n",
       "      <td>0.195497</td>\n",
       "      <td>2017-08</td>\n",
       "      <td>0.772069</td>\n",
       "      <td>0.414603</td>\n",
       "      <td>-0.449214</td>\n",
       "      <td>-0.966824</td>\n",
       "    </tr>\n",
       "    <tr>\n",
       "      <td>185976</td>\n",
       "      <td>866013</td>\n",
       "      <td>2017-09-29</td>\n",
       "      <td>0.85</td>\n",
       "      <td>46950.08</td>\n",
       "      <td>0.959901</td>\n",
       "      <td>40262.33</td>\n",
       "      <td>0.195497</td>\n",
       "      <td>2017-09</td>\n",
       "      <td>5.057636</td>\n",
       "      <td>-0.695253</td>\n",
       "      <td>0.426054</td>\n",
       "      <td>1.107276</td>\n",
       "    </tr>\n",
       "    <tr>\n",
       "      <td>186519</td>\n",
       "      <td>866013</td>\n",
       "      <td>2017-10-31</td>\n",
       "      <td>-1.61</td>\n",
       "      <td>47347.41</td>\n",
       "      <td>0.956255</td>\n",
       "      <td>40262.33</td>\n",
       "      <td>0.195497</td>\n",
       "      <td>2017-10</td>\n",
       "      <td>1.301131</td>\n",
       "      <td>-2.440036</td>\n",
       "      <td>0.132961</td>\n",
       "      <td>1.272750</td>\n",
       "    </tr>\n",
       "    <tr>\n",
       "      <td>187063</td>\n",
       "      <td>866013</td>\n",
       "      <td>2017-11-30</td>\n",
       "      <td>-5.98</td>\n",
       "      <td>46585.36</td>\n",
       "      <td>0.948163</td>\n",
       "      <td>40262.33</td>\n",
       "      <td>0.195497</td>\n",
       "      <td>2017-11</td>\n",
       "      <td>1.487124</td>\n",
       "      <td>0.233265</td>\n",
       "      <td>1.735625</td>\n",
       "      <td>-1.285797</td>\n",
       "    </tr>\n",
       "    <tr>\n",
       "      <td>187608</td>\n",
       "      <td>866013</td>\n",
       "      <td>2017-12-29</td>\n",
       "      <td>-4.02</td>\n",
       "      <td>43800.92</td>\n",
       "      <td>0.890243</td>\n",
       "      <td>40262.33</td>\n",
       "      <td>0.195497</td>\n",
       "      <td>2017-12</td>\n",
       "      <td>0.317077</td>\n",
       "      <td>2.261140</td>\n",
       "      <td>2.061187</td>\n",
       "      <td>-0.377359</td>\n",
       "    </tr>\n",
       "  </tbody>\n",
       "</table>\n",
       "<p>229 rows × 12 columns</p>\n",
       "</div>"
      ],
      "text/plain": [
       "            Id        Date  RET.USD   LMV.USD      BETA  EOJ_Marketcap  \\\n",
       "37804   866013  1998-12-31    -0.68   4962.06  0.737476        7901.55   \n",
       "38337   866013  1999-01-29   -23.45   4928.27  0.732626        7901.55   \n",
       "38869   866013  1999-02-26    15.08   3772.56  0.639363        7901.55   \n",
       "39400   866013  1999-03-31    -6.79   4341.47  0.465504        7901.55   \n",
       "39930   866013  1999-04-30    10.50   4046.69  0.513188        7901.55   \n",
       "...        ...         ...      ...       ...       ...            ...   \n",
       "185432  866013  2017-08-31    -1.24  47537.94  0.970016       40262.33   \n",
       "185976  866013  2017-09-29     0.85  46950.08  0.959901       40262.33   \n",
       "186519  866013  2017-10-31    -1.61  47347.41  0.956255       40262.33   \n",
       "187063  866013  2017-11-30    -5.98  46585.36  0.948163       40262.33   \n",
       "187608  866013  2017-12-29    -4.02  43800.92  0.890243       40262.33   \n",
       "\n",
       "              BM month_year      RMRF       SMB       HML        WML  \n",
       "37804   0.126818    1998-12  2.508973 -0.919234  1.783595   2.738842  \n",
       "38337   0.126818    1999-01  2.147219 -4.477452 -2.955716  14.725757  \n",
       "38869   0.126818    1999-02 -6.237935  6.028959  1.597353   1.515690  \n",
       "39400   0.126818    1999-03 -3.893391  0.127169  0.942076  -2.676169  \n",
       "39930   0.126818    1999-04  4.597983 -3.934642  2.949789  -7.332588  \n",
       "...          ...        ...       ...       ...       ...        ...  \n",
       "185432  0.195497    2017-08  0.772069  0.414603 -0.449214  -0.966824  \n",
       "185976  0.195497    2017-09  5.057636 -0.695253  0.426054   1.107276  \n",
       "186519  0.195497    2017-10  1.301131 -2.440036  0.132961   1.272750  \n",
       "187063  0.195497    2017-11  1.487124  0.233265  1.735625  -1.285797  \n",
       "187608  0.195497    2017-12  0.317077  2.261140  2.061187  -0.377359  \n",
       "\n",
       "[229 rows x 12 columns]"
      ]
     },
     "execution_count": 8,
     "metadata": {},
     "output_type": "execute_result"
    }
   ],
   "source": [
    "adidas"
   ]
  },
  {
   "cell_type": "code",
   "execution_count": 9,
   "metadata": {},
   "outputs": [],
   "source": [
    "def lin_reg(df):\n",
    "    lr = LinearRegression()\n",
    "    X = pd.DataFrame(df[\"RMRF\"])\n",
    "    y = df[\"RET.USD\"]\n",
    "    #X[\"Intercept\"] = pd.Series([1 for x in range(len(df.index))])\n",
    "    #X = X[[\"Intercept\", \"RMRF\"]]\n",
    "    mod = lr.fit(X, y)\n",
    "    return mod"
   ]
  },
  {
   "cell_type": "code",
   "execution_count": 10,
   "metadata": {},
   "outputs": [],
   "source": [
    "mod = lin_reg(adidas)"
   ]
  },
  {
   "cell_type": "code",
   "execution_count": 11,
   "metadata": {},
   "outputs": [
    {
     "data": {
      "text/plain": [
       "array([0.85015476])"
      ]
     },
     "execution_count": 11,
     "metadata": {},
     "output_type": "execute_result"
    }
   ],
   "source": [
    "mod.coef_"
   ]
  },
  {
   "cell_type": "code",
   "execution_count": 12,
   "metadata": {},
   "outputs": [],
   "source": [
    "def time_beta(df, start, end):\n",
    "    filtered_df = df.loc[(df[\"month_year\"] >= start) & (data[\"month_year\"] <= end)]\n",
    "    mod = lin_reg(filtered_df)\n",
    "    return mod"
   ]
  },
  {
   "cell_type": "code",
   "execution_count": 13,
   "metadata": {},
   "outputs": [],
   "source": [
    "mod = time_beta(adidas, \"2005-07\", \"2010-06\")"
   ]
  },
  {
   "cell_type": "code",
   "execution_count": 14,
   "metadata": {},
   "outputs": [
    {
     "data": {
      "text/plain": [
       "array([1.20510958])"
      ]
     },
     "execution_count": 14,
     "metadata": {},
     "output_type": "execute_result"
    }
   ],
   "source": [
    "mod.coef_"
   ]
  },
  {
   "cell_type": "code",
   "execution_count": 15,
   "metadata": {},
   "outputs": [],
   "source": [
    "july_1990 = data.loc[data[\"month_year\"] == \"1990-07\"]"
   ]
  },
  {
   "cell_type": "code",
   "execution_count": 29,
   "metadata": {},
   "outputs": [],
   "source": [
    "def fama_macbeth(df, factors):\n",
    "    X = df[factors]\n",
    "    y = df[\"RET.USD\"]\n",
    "    X2 = sm.add_constant(X)\n",
    "    ols  = sm.OLS(y, X2)\n",
    "    mod = ols.fit()\n",
    "    return mod\n"
   ]
  },
  {
   "cell_type": "code",
   "execution_count": 35,
   "metadata": {},
   "outputs": [
    {
     "name": "stderr",
     "output_type": "stream",
     "text": [
      "C:\\Users\\Marvin\\Anaconda3\\lib\\site-packages\\numpy\\core\\fromnumeric.py:2389: FutureWarning: Method .ptp is deprecated and will be removed in a future version. Use numpy.ptp instead.\n",
      "  return ptp(axis=axis, out=out, **kwargs)\n"
     ]
    }
   ],
   "source": [
    "mod = fama_macbeth(july_1990, \"BETA\")"
   ]
  },
  {
   "cell_type": "code",
   "execution_count": 36,
   "metadata": {},
   "outputs": [
    {
     "name": "stdout",
     "output_type": "stream",
     "text": [
      "                            OLS Regression Results                            \n",
      "==============================================================================\n",
      "Dep. Variable:                RET.USD   R-squared:                       0.000\n",
      "Model:                            OLS   Adj. R-squared:                 -0.007\n",
      "Method:                 Least Squares   F-statistic:                   0.01421\n",
      "Date:                Wed, 28 Apr 2021   Prob (F-statistic):              0.905\n",
      "Time:                        18:15:22   Log-Likelihood:                -535.02\n",
      "No. Observations:                 152   AIC:                             1074.\n",
      "Df Residuals:                     150   BIC:                             1080.\n",
      "Df Model:                           1                                         \n",
      "Covariance Type:            nonrobust                                         \n",
      "==============================================================================\n",
      "                 coef    std err          t      P>|t|      [0.025      0.975]\n",
      "------------------------------------------------------------------------------\n",
      "const         10.0934      1.695      5.954      0.000       6.744      13.443\n",
      "BETA           0.2169      1.820      0.119      0.905      -3.379       3.813\n",
      "==============================================================================\n",
      "Omnibus:                        9.126   Durbin-Watson:                   1.802\n",
      "Prob(Omnibus):                  0.010   Jarque-Bera (JB):               10.020\n",
      "Skew:                           0.453   Prob(JB):                      0.00667\n",
      "Kurtosis:                       3.873   Cond. No.                         4.89\n",
      "==============================================================================\n",
      "\n",
      "Warnings:\n",
      "[1] Standard Errors assume that the covariance matrix of the errors is correctly specified.\n"
     ]
    }
   ],
   "source": [
    "print(mod.summary())"
   ]
  },
  {
   "cell_type": "code",
   "execution_count": 94,
   "metadata": {},
   "outputs": [
    {
     "data": {
      "text/plain": [
       "range(1, 2)"
      ]
     },
     "execution_count": 94,
     "metadata": {},
     "output_type": "execute_result"
    }
   ],
   "source": [
    "range(1, len(factors))"
   ]
  },
  {
   "cell_type": "code",
   "execution_count": 92,
   "metadata": {},
   "outputs": [],
   "source": [
    "factors = [\"BETA\", \"LMV.USD\"]"
   ]
  },
  {
   "cell_type": "code",
   "execution_count": 105,
   "metadata": {},
   "outputs": [],
   "source": [
    "def cs_reg_estimates(data, factors):\n",
    "    columns = factors.copy()\n",
    "    columns.insert(0, \"ym\")\n",
    "    columns.insert(1, \"Intercept\")\n",
    "    columns.append(\"no.obs\")\n",
    "    cs_reg_estimates = pd.DataFrame(columns=columns)\n",
    "    temp2 = []\n",
    "    for date in data[\"month_year\"].unique():\n",
    "        temp = data.loc[data[\"month_year\"] == date]\n",
    "        mod = fama_macbeth(temp, factors)\n",
    "        temp2 = [mod.params[i] for i in range(1, len(factors)+1)]\n",
    "        temp2.insert(0, date)\n",
    "        temp2.insert(1, mod.params[0])\n",
    "        temp2.append(temp.shape[0])\n",
    "        cs_reg_estimates.loc[len(cs_reg_estimates)] = temp2\n",
    "    \n",
    "    return cs_reg_estimates"
   ]
  },
  {
   "cell_type": "code",
   "execution_count": 106,
   "metadata": {},
   "outputs": [],
   "source": [
    "test = cs_reg_estimates(data, factors)"
   ]
  },
  {
   "cell_type": "code",
   "execution_count": 107,
   "metadata": {
    "scrolled": true
   },
   "outputs": [
    {
     "data": {
      "text/html": [
       "<div>\n",
       "<style scoped>\n",
       "    .dataframe tbody tr th:only-of-type {\n",
       "        vertical-align: middle;\n",
       "    }\n",
       "\n",
       "    .dataframe tbody tr th {\n",
       "        vertical-align: top;\n",
       "    }\n",
       "\n",
       "    .dataframe thead th {\n",
       "        text-align: right;\n",
       "    }\n",
       "</style>\n",
       "<table border=\"1\" class=\"dataframe\">\n",
       "  <thead>\n",
       "    <tr style=\"text-align: right;\">\n",
       "      <th></th>\n",
       "      <th>ym</th>\n",
       "      <th>Intercept</th>\n",
       "      <th>BETA</th>\n",
       "      <th>LMV.USD</th>\n",
       "      <th>no.obs</th>\n",
       "    </tr>\n",
       "  </thead>\n",
       "  <tbody>\n",
       "    <tr>\n",
       "      <td>0</td>\n",
       "      <td>1990-07</td>\n",
       "      <td>9.965130</td>\n",
       "      <td>0.769885</td>\n",
       "      <td>-0.000179</td>\n",
       "      <td>152</td>\n",
       "    </tr>\n",
       "    <tr>\n",
       "      <td>1</td>\n",
       "      <td>1990-08</td>\n",
       "      <td>-5.499742</td>\n",
       "      <td>-7.297133</td>\n",
       "      <td>-0.000055</td>\n",
       "      <td>154</td>\n",
       "    </tr>\n",
       "    <tr>\n",
       "      <td>2</td>\n",
       "      <td>1990-09</td>\n",
       "      <td>-3.715820</td>\n",
       "      <td>-10.042430</td>\n",
       "      <td>-0.000223</td>\n",
       "      <td>155</td>\n",
       "    </tr>\n",
       "    <tr>\n",
       "      <td>3</td>\n",
       "      <td>1990-10</td>\n",
       "      <td>1.207534</td>\n",
       "      <td>11.136227</td>\n",
       "      <td>-0.000125</td>\n",
       "      <td>156</td>\n",
       "    </tr>\n",
       "    <tr>\n",
       "      <td>4</td>\n",
       "      <td>1990-11</td>\n",
       "      <td>1.559882</td>\n",
       "      <td>-1.382430</td>\n",
       "      <td>0.000163</td>\n",
       "      <td>158</td>\n",
       "    </tr>\n",
       "    <tr>\n",
       "      <td>...</td>\n",
       "      <td>...</td>\n",
       "      <td>...</td>\n",
       "      <td>...</td>\n",
       "      <td>...</td>\n",
       "      <td>...</td>\n",
       "    </tr>\n",
       "    <tr>\n",
       "      <td>325</td>\n",
       "      <td>2017-08</td>\n",
       "      <td>2.158044</td>\n",
       "      <td>-1.512703</td>\n",
       "      <td>0.000001</td>\n",
       "      <td>547</td>\n",
       "    </tr>\n",
       "    <tr>\n",
       "      <td>326</td>\n",
       "      <td>2017-09</td>\n",
       "      <td>3.417220</td>\n",
       "      <td>0.629181</td>\n",
       "      <td>0.000020</td>\n",
       "      <td>544</td>\n",
       "    </tr>\n",
       "    <tr>\n",
       "      <td>327</td>\n",
       "      <td>2017-10</td>\n",
       "      <td>0.404356</td>\n",
       "      <td>-1.003274</td>\n",
       "      <td>0.000034</td>\n",
       "      <td>545</td>\n",
       "    </tr>\n",
       "    <tr>\n",
       "      <td>328</td>\n",
       "      <td>2017-11</td>\n",
       "      <td>4.387501</td>\n",
       "      <td>-0.654321</td>\n",
       "      <td>-0.000040</td>\n",
       "      <td>546</td>\n",
       "    </tr>\n",
       "    <tr>\n",
       "      <td>329</td>\n",
       "      <td>2017-12</td>\n",
       "      <td>1.300609</td>\n",
       "      <td>1.156138</td>\n",
       "      <td>-0.000033</td>\n",
       "      <td>545</td>\n",
       "    </tr>\n",
       "  </tbody>\n",
       "</table>\n",
       "<p>330 rows × 5 columns</p>\n",
       "</div>"
      ],
      "text/plain": [
       "          ym  Intercept       BETA   LMV.USD no.obs\n",
       "0    1990-07   9.965130   0.769885 -0.000179    152\n",
       "1    1990-08  -5.499742  -7.297133 -0.000055    154\n",
       "2    1990-09  -3.715820 -10.042430 -0.000223    155\n",
       "3    1990-10   1.207534  11.136227 -0.000125    156\n",
       "4    1990-11   1.559882  -1.382430  0.000163    158\n",
       "..       ...        ...        ...       ...    ...\n",
       "325  2017-08   2.158044  -1.512703  0.000001    547\n",
       "326  2017-09   3.417220   0.629181  0.000020    544\n",
       "327  2017-10   0.404356  -1.003274  0.000034    545\n",
       "328  2017-11   4.387501  -0.654321 -0.000040    546\n",
       "329  2017-12   1.300609   1.156138 -0.000033    545\n",
       "\n",
       "[330 rows x 5 columns]"
      ]
     },
     "execution_count": 107,
     "metadata": {},
     "output_type": "execute_result"
    }
   ],
   "source": [
    "test"
   ]
  },
  {
   "cell_type": "code",
   "execution_count": 24,
   "metadata": {},
   "outputs": [
    {
     "data": {
      "text/plain": [
       "0.7986017220171844"
      ]
     },
     "execution_count": 24,
     "metadata": {},
     "output_type": "execute_result"
    }
   ],
   "source": [
    "np.mean(cs_reg_estimates[\"gamma_zero\"])"
   ]
  },
  {
   "cell_type": "code",
   "execution_count": 25,
   "metadata": {},
   "outputs": [
    {
     "data": {
      "text/plain": [
       "Ttest_1sampResult(statistic=3.819043982517279, pvalue=0.00016010667234259759)"
      ]
     },
     "execution_count": 25,
     "metadata": {},
     "output_type": "execute_result"
    }
   ],
   "source": [
    "stats.ttest_1samp(cs_reg_estimates[\"gamma_zero\"], 0)"
   ]
  },
  {
   "cell_type": "code",
   "execution_count": 26,
   "metadata": {},
   "outputs": [
    {
     "data": {
      "text/plain": [
       "Ttest_1sampResult(statistic=-0.04037954748356142, pvalue=0.9678150282006315)"
      ]
     },
     "execution_count": 26,
     "metadata": {},
     "output_type": "execute_result"
    }
   ],
   "source": [
    "stats.ttest_1samp(cs_reg_estimates[\"gamma\"], 0)"
   ]
  },
  {
   "cell_type": "code",
   "execution_count": 82,
   "metadata": {},
   "outputs": [
    {
     "data": {
      "text/html": [
       "<div>\n",
       "<style scoped>\n",
       "    .dataframe tbody tr th:only-of-type {\n",
       "        vertical-align: middle;\n",
       "    }\n",
       "\n",
       "    .dataframe tbody tr th {\n",
       "        vertical-align: top;\n",
       "    }\n",
       "\n",
       "    .dataframe thead th {\n",
       "        text-align: right;\n",
       "    }\n",
       "</style>\n",
       "<table border=\"1\" class=\"dataframe\">\n",
       "  <thead>\n",
       "    <tr style=\"text-align: right;\">\n",
       "      <th></th>\n",
       "      <th>Id</th>\n",
       "      <th>Date</th>\n",
       "      <th>RET.USD</th>\n",
       "      <th>LMV.USD</th>\n",
       "      <th>BETA</th>\n",
       "      <th>EOJ_Marketcap</th>\n",
       "      <th>BM</th>\n",
       "      <th>month_year</th>\n",
       "    </tr>\n",
       "  </thead>\n",
       "  <tbody>\n",
       "    <tr>\n",
       "      <td>0</td>\n",
       "      <td>702300</td>\n",
       "      <td>1990-07-31</td>\n",
       "      <td>10.85</td>\n",
       "      <td>1625.23</td>\n",
       "      <td>1.046458</td>\n",
       "      <td>1625.23</td>\n",
       "      <td>0.214170</td>\n",
       "      <td>1990-07</td>\n",
       "    </tr>\n",
       "    <tr>\n",
       "      <td>1</td>\n",
       "      <td>702699</td>\n",
       "      <td>1990-07-31</td>\n",
       "      <td>9.53</td>\n",
       "      <td>947.25</td>\n",
       "      <td>1.109317</td>\n",
       "      <td>947.25</td>\n",
       "      <td>0.826878</td>\n",
       "      <td>1990-07</td>\n",
       "    </tr>\n",
       "    <tr>\n",
       "      <td>2</td>\n",
       "      <td>729108</td>\n",
       "      <td>1990-07-31</td>\n",
       "      <td>2.57</td>\n",
       "      <td>2474.12</td>\n",
       "      <td>0.550301</td>\n",
       "      <td>2474.12</td>\n",
       "      <td>0.498434</td>\n",
       "      <td>1990-07</td>\n",
       "    </tr>\n",
       "    <tr>\n",
       "      <td>3</td>\n",
       "      <td>729175</td>\n",
       "      <td>1990-07-31</td>\n",
       "      <td>-4.40</td>\n",
       "      <td>185.31</td>\n",
       "      <td>1.295822</td>\n",
       "      <td>185.31</td>\n",
       "      <td>0.213723</td>\n",
       "      <td>1990-07</td>\n",
       "    </tr>\n",
       "    <tr>\n",
       "      <td>4</td>\n",
       "      <td>729304</td>\n",
       "      <td>1990-07-31</td>\n",
       "      <td>6.46</td>\n",
       "      <td>222.19</td>\n",
       "      <td>0.694801</td>\n",
       "      <td>222.19</td>\n",
       "      <td>0.459050</td>\n",
       "      <td>1990-07</td>\n",
       "    </tr>\n",
       "    <tr>\n",
       "      <td>...</td>\n",
       "      <td>...</td>\n",
       "      <td>...</td>\n",
       "      <td>...</td>\n",
       "      <td>...</td>\n",
       "      <td>...</td>\n",
       "      <td>...</td>\n",
       "      <td>...</td>\n",
       "      <td>...</td>\n",
       "    </tr>\n",
       "    <tr>\n",
       "      <td>187728</td>\n",
       "      <td>952285</td>\n",
       "      <td>2017-12-29</td>\n",
       "      <td>-0.99</td>\n",
       "      <td>174.34</td>\n",
       "      <td>1.024999</td>\n",
       "      <td>157.00</td>\n",
       "      <td>0.746940</td>\n",
       "      <td>2017-12</td>\n",
       "    </tr>\n",
       "    <tr>\n",
       "      <td>187729</td>\n",
       "      <td>952299</td>\n",
       "      <td>2017-12-29</td>\n",
       "      <td>-1.89</td>\n",
       "      <td>968.19</td>\n",
       "      <td>0.309518</td>\n",
       "      <td>780.82</td>\n",
       "      <td>0.540458</td>\n",
       "      <td>2017-12</td>\n",
       "    </tr>\n",
       "    <tr>\n",
       "      <td>187730</td>\n",
       "      <td>982910</td>\n",
       "      <td>2017-12-29</td>\n",
       "      <td>6.19</td>\n",
       "      <td>7.01</td>\n",
       "      <td>-0.264888</td>\n",
       "      <td>7.84</td>\n",
       "      <td>0.662751</td>\n",
       "      <td>2017-12</td>\n",
       "    </tr>\n",
       "    <tr>\n",
       "      <td>187731</td>\n",
       "      <td>992562</td>\n",
       "      <td>2017-12-29</td>\n",
       "      <td>-2.62</td>\n",
       "      <td>1267.33</td>\n",
       "      <td>1.141478</td>\n",
       "      <td>1114.49</td>\n",
       "      <td>0.418188</td>\n",
       "      <td>2017-12</td>\n",
       "    </tr>\n",
       "    <tr>\n",
       "      <td>187732</td>\n",
       "      <td>999563</td>\n",
       "      <td>2017-12-29</td>\n",
       "      <td>-0.28</td>\n",
       "      <td>79.34</td>\n",
       "      <td>0.848425</td>\n",
       "      <td>73.63</td>\n",
       "      <td>0.255665</td>\n",
       "      <td>2017-12</td>\n",
       "    </tr>\n",
       "  </tbody>\n",
       "</table>\n",
       "<p>187733 rows × 8 columns</p>\n",
       "</div>"
      ],
      "text/plain": [
       "            Id        Date  RET.USD  LMV.USD      BETA  EOJ_Marketcap  \\\n",
       "0       702300  1990-07-31    10.85  1625.23  1.046458        1625.23   \n",
       "1       702699  1990-07-31     9.53   947.25  1.109317         947.25   \n",
       "2       729108  1990-07-31     2.57  2474.12  0.550301        2474.12   \n",
       "3       729175  1990-07-31    -4.40   185.31  1.295822         185.31   \n",
       "4       729304  1990-07-31     6.46   222.19  0.694801         222.19   \n",
       "...        ...         ...      ...      ...       ...            ...   \n",
       "187728  952285  2017-12-29    -0.99   174.34  1.024999         157.00   \n",
       "187729  952299  2017-12-29    -1.89   968.19  0.309518         780.82   \n",
       "187730  982910  2017-12-29     6.19     7.01 -0.264888           7.84   \n",
       "187731  992562  2017-12-29    -2.62  1267.33  1.141478        1114.49   \n",
       "187732  999563  2017-12-29    -0.28    79.34  0.848425          73.63   \n",
       "\n",
       "              BM month_year  \n",
       "0       0.214170    1990-07  \n",
       "1       0.826878    1990-07  \n",
       "2       0.498434    1990-07  \n",
       "3       0.213723    1990-07  \n",
       "4       0.459050    1990-07  \n",
       "...          ...        ...  \n",
       "187728  0.746940    2017-12  \n",
       "187729  0.540458    2017-12  \n",
       "187730  0.662751    2017-12  \n",
       "187731  0.418188    2017-12  \n",
       "187732  0.255665    2017-12  \n",
       "\n",
       "[187733 rows x 8 columns]"
      ]
     },
     "execution_count": 82,
     "metadata": {},
     "output_type": "execute_result"
    }
   ],
   "source": [
    "data"
   ]
  },
  {
   "cell_type": "code",
   "execution_count": 108,
   "metadata": {},
   "outputs": [],
   "source": [
    "factors = [\"BETA\", \"EOJ_Marketcap\", \"BM\"]"
   ]
  },
  {
   "cell_type": "code",
   "execution_count": 109,
   "metadata": {},
   "outputs": [],
   "source": [
    "test2 = cs_reg_estimates(data, factors)"
   ]
  },
  {
   "cell_type": "code",
   "execution_count": 110,
   "metadata": {},
   "outputs": [
    {
     "data": {
      "text/html": [
       "<div>\n",
       "<style scoped>\n",
       "    .dataframe tbody tr th:only-of-type {\n",
       "        vertical-align: middle;\n",
       "    }\n",
       "\n",
       "    .dataframe tbody tr th {\n",
       "        vertical-align: top;\n",
       "    }\n",
       "\n",
       "    .dataframe thead th {\n",
       "        text-align: right;\n",
       "    }\n",
       "</style>\n",
       "<table border=\"1\" class=\"dataframe\">\n",
       "  <thead>\n",
       "    <tr style=\"text-align: right;\">\n",
       "      <th></th>\n",
       "      <th>ym</th>\n",
       "      <th>Intercept</th>\n",
       "      <th>BETA</th>\n",
       "      <th>EOJ_Marketcap</th>\n",
       "      <th>BM</th>\n",
       "      <th>no.obs</th>\n",
       "    </tr>\n",
       "  </thead>\n",
       "  <tbody>\n",
       "    <tr>\n",
       "      <td>0</td>\n",
       "      <td>1990-07</td>\n",
       "      <td>8.660189</td>\n",
       "      <td>1.256183</td>\n",
       "      <td>-1.823763e-04</td>\n",
       "      <td>1.828944</td>\n",
       "      <td>152</td>\n",
       "    </tr>\n",
       "    <tr>\n",
       "      <td>1</td>\n",
       "      <td>1990-08</td>\n",
       "      <td>-5.600306</td>\n",
       "      <td>-7.238388</td>\n",
       "      <td>-7.223664e-05</td>\n",
       "      <td>0.149789</td>\n",
       "      <td>154</td>\n",
       "    </tr>\n",
       "    <tr>\n",
       "      <td>2</td>\n",
       "      <td>1990-09</td>\n",
       "      <td>-3.560052</td>\n",
       "      <td>-10.071646</td>\n",
       "      <td>-2.120256e-04</td>\n",
       "      <td>-0.257722</td>\n",
       "      <td>155</td>\n",
       "    </tr>\n",
       "    <tr>\n",
       "      <td>3</td>\n",
       "      <td>1990-10</td>\n",
       "      <td>0.693561</td>\n",
       "      <td>11.302091</td>\n",
       "      <td>-9.778200e-05</td>\n",
       "      <td>0.762683</td>\n",
       "      <td>156</td>\n",
       "    </tr>\n",
       "    <tr>\n",
       "      <td>4</td>\n",
       "      <td>1990-11</td>\n",
       "      <td>1.955190</td>\n",
       "      <td>-1.398218</td>\n",
       "      <td>1.257374e-04</td>\n",
       "      <td>-0.721721</td>\n",
       "      <td>158</td>\n",
       "    </tr>\n",
       "    <tr>\n",
       "      <td>...</td>\n",
       "      <td>...</td>\n",
       "      <td>...</td>\n",
       "      <td>...</td>\n",
       "      <td>...</td>\n",
       "      <td>...</td>\n",
       "      <td>...</td>\n",
       "    </tr>\n",
       "    <tr>\n",
       "      <td>325</td>\n",
       "      <td>2017-08</td>\n",
       "      <td>2.074390</td>\n",
       "      <td>-1.491653</td>\n",
       "      <td>9.771145e-07</td>\n",
       "      <td>0.088611</td>\n",
       "      <td>547</td>\n",
       "    </tr>\n",
       "    <tr>\n",
       "      <td>326</td>\n",
       "      <td>2017-09</td>\n",
       "      <td>3.355697</td>\n",
       "      <td>0.642882</td>\n",
       "      <td>2.170147e-05</td>\n",
       "      <td>0.063244</td>\n",
       "      <td>544</td>\n",
       "    </tr>\n",
       "    <tr>\n",
       "      <td>327</td>\n",
       "      <td>2017-10</td>\n",
       "      <td>0.054046</td>\n",
       "      <td>-0.927532</td>\n",
       "      <td>3.695173e-05</td>\n",
       "      <td>0.380048</td>\n",
       "      <td>545</td>\n",
       "    </tr>\n",
       "    <tr>\n",
       "      <td>328</td>\n",
       "      <td>2017-11</td>\n",
       "      <td>0.880806</td>\n",
       "      <td>0.034778</td>\n",
       "      <td>-3.239862e-05</td>\n",
       "      <td>3.796822</td>\n",
       "      <td>546</td>\n",
       "    </tr>\n",
       "    <tr>\n",
       "      <td>329</td>\n",
       "      <td>2017-12</td>\n",
       "      <td>1.110559</td>\n",
       "      <td>1.169105</td>\n",
       "      <td>-3.293855e-05</td>\n",
       "      <td>0.214758</td>\n",
       "      <td>545</td>\n",
       "    </tr>\n",
       "  </tbody>\n",
       "</table>\n",
       "<p>330 rows × 6 columns</p>\n",
       "</div>"
      ],
      "text/plain": [
       "          ym  Intercept       BETA  EOJ_Marketcap        BM no.obs\n",
       "0    1990-07   8.660189   1.256183  -1.823763e-04  1.828944    152\n",
       "1    1990-08  -5.600306  -7.238388  -7.223664e-05  0.149789    154\n",
       "2    1990-09  -3.560052 -10.071646  -2.120256e-04 -0.257722    155\n",
       "3    1990-10   0.693561  11.302091  -9.778200e-05  0.762683    156\n",
       "4    1990-11   1.955190  -1.398218   1.257374e-04 -0.721721    158\n",
       "..       ...        ...        ...            ...       ...    ...\n",
       "325  2017-08   2.074390  -1.491653   9.771145e-07  0.088611    547\n",
       "326  2017-09   3.355697   0.642882   2.170147e-05  0.063244    544\n",
       "327  2017-10   0.054046  -0.927532   3.695173e-05  0.380048    545\n",
       "328  2017-11   0.880806   0.034778  -3.239862e-05  3.796822    546\n",
       "329  2017-12   1.110559   1.169105  -3.293855e-05  0.214758    545\n",
       "\n",
       "[330 rows x 6 columns]"
      ]
     },
     "execution_count": 110,
     "metadata": {},
     "output_type": "execute_result"
    }
   ],
   "source": [
    "test2"
   ]
  },
  {
   "cell_type": "code",
   "execution_count": null,
   "metadata": {},
   "outputs": [],
   "source": [
    "data_path = \"C:\\\\Users\\\\Marvin\\\\OneDrive\\\\Desktop\\\\Studium\\\\SS21\\\\Seminar\\\\Data_Excursus3\\\\\"\n",
    "data3a = pd.read_csv(data_path+\"data3a.csv\")\n",
    "data3a.drop(\"Unnamed: 0\", axis=1, inplace=True)\n",
    "data3a.head()"
   ]
  },
  {
   "cell_type": "code",
   "execution_count": null,
   "metadata": {},
   "outputs": [],
   "source": [
    "data3b = pd.read_csv(data_path+\"data3b.csv\")\n",
    "data3b.drop(\"Unnamed: 0\", axis=1, inplace=True)\n",
    "data3c = pd.read_csv(data_path+\"data3c.csv\")\n",
    "data3c.drop(\"Unnamed: 0\", axis=1, inplace=True)"
   ]
  },
  {
   "cell_type": "code",
   "execution_count": null,
   "metadata": {},
   "outputs": [],
   "source": [
    "def factor_spanning_test(df, spanning_factors, test_factor):\n",
    "    lr = LinearRegression()\n",
    "    X = df[spanning_factors]\n",
    "    y = df[test_factor]\n",
    "    X2 = sm.add_constant(X)\n",
    "    ols = sm.OLS(y, X2)\n",
    "    mod = ols.fit()\n",
    "    print(mod.summary())\n",
    "    "
   ]
  },
  {
   "cell_type": "code",
   "execution_count": null,
   "metadata": {},
   "outputs": [],
   "source": [
    "factor_spanning_test(data3a, [\"RMRF.local\", \"SMB\", \"HML\"], \"WML\")"
   ]
  },
  {
   "cell_type": "code",
   "execution_count": null,
   "metadata": {},
   "outputs": [],
   "source": [
    "data3c[\"Date\"] = pd.to_datetime(data3c[\"Date\"])\n",
    "data3c[\"month\"] = pd.DatetimeIndex(data3c[\"Date\"]).month\n",
    "data3c[\"year\"] = pd.DatetimeIndex(data3c[\"Date\"]).year\n",
    "condlist = [data3c[\"month\"] >= 7, data3c[\"month\"] < 7]\n",
    "choicelist = [data3c[\"year\"] - 1, data3c[\"year\"] - 2]\n",
    "data3c[\"hcyear\"] = np.select(condlist, choicelist)"
   ]
  },
  {
   "cell_type": "code",
   "execution_count": null,
   "metadata": {},
   "outputs": [],
   "source": [
    "merged_df = data3c.merge(data3b, left_on=[\"Id\", \"hcyear\"], right_on=[\"Id\", \"YEAR\"])"
   ]
  },
  {
   "cell_type": "code",
   "execution_count": null,
   "metadata": {},
   "outputs": [],
   "source": [
    "data_path = \"C:\\\\Users\\\\Marvin\\\\OneDrive\\\\Desktop\\\\Studium\\\\SS21\\\\Seminar\\\\Data_Excursus4\\\\data4a.csv\"\n",
    "data4a = pd.read_csv(data_path)\n",
    "data4a.drop(\"Unnamed: 0\", axis=1, inplace=True)\n",
    "data4a.head()"
   ]
  },
  {
   "cell_type": "code",
   "execution_count": null,
   "metadata": {},
   "outputs": [],
   "source": [
    "def transform_date(df):\n",
    "    df[\"Date\"] = pd.to_datetime(df[\"Date\"])\n",
    "    df[\"month\"] = pd.DatetimeIndex(df[\"Date\"]).month\n",
    "    df[\"year\"] = pd.DatetimeIndex(df[\"Date\"]).year\n",
    "    return df"
   ]
  },
  {
   "cell_type": "code",
   "execution_count": null,
   "metadata": {},
   "outputs": [],
   "source": [
    "data4a = transform_date(data4a)\n",
    "data4a.head()"
   ]
  },
  {
   "cell_type": "code",
   "execution_count": null,
   "metadata": {},
   "outputs": [],
   "source": [
    "def mv_lag(df, lag):  \n",
    "    condlist = [df[\"month\"] >= 7, df[\"month\"] < 7]\n",
    "    choicelist = [df[\"year\"], df[\"year\"] - lag]\n",
    "    df[\"hcoljune\"] = np.select(condlist, choicelist)\n",
    "    return df"
   ]
  },
  {
   "cell_type": "code",
   "execution_count": null,
   "metadata": {},
   "outputs": [],
   "source": [
    "data4a = mv_lag(data4a, 1)\n",
    "data4a.head()"
   ]
  },
  {
   "cell_type": "code",
   "execution_count": null,
   "metadata": {},
   "outputs": [],
   "source": [
    "fig, axs = plt.subplots(1, 2)\n",
    "x1 = data4a.loc[(data4a[\"month\"] == 7) & (data4a[\"year\"] == 2011)][\"MV.USD.June\"]\n",
    "x2 = np.log(data4a.loc[(data4a[\"month\"] == 6) & (data4a[\"year\"] == 1991)][\"MV.USD.June\"])\n",
    "nbins = 50\n",
    "axs[0].hist(x1, bins=nbins)\n",
    "axs[1].hist(x2, bins=nbins)\n",
    "plt.show()"
   ]
  },
  {
   "cell_type": "code",
   "execution_count": null,
   "metadata": {},
   "outputs": [],
   "source": [
    "sorted_data4a = data4a.sort_values(by=[\"Date\", \"LMV.USD\"], ascending=[True, False])\n",
    "sorted_data4a"
   ]
  },
  {
   "cell_type": "code",
   "execution_count": null,
   "metadata": {},
   "outputs": [],
   "source": [
    "for date in sorted_data4a[\"Date\"].unique():\n",
    "    temp = sorted_data4a.loc[sorted_data4a[\"Date\"] == date]\n",
    "    pfsize = np.array(temp[\"MV.USD.June\"].cumsum() / temp[\"MV.USD.June\"].sum())\n",
    "    pfsize = [\"Small\" if i >= 0.9 else \"Big\" for i in pfsize]\n",
    "    sorted_data4a.loc[sorted_data4a[\"Date\"] == date, [\"pfsize\"]] = pfsize"
   ]
  },
  {
   "cell_type": "code",
   "execution_count": null,
   "metadata": {},
   "outputs": [],
   "source": []
  }
 ],
 "metadata": {
  "kernelspec": {
   "display_name": "Python 3",
   "language": "python",
   "name": "python3"
  },
  "language_info": {
   "codemirror_mode": {
    "name": "ipython",
    "version": 3
   },
   "file_extension": ".py",
   "mimetype": "text/x-python",
   "name": "python",
   "nbconvert_exporter": "python",
   "pygments_lexer": "ipython3",
   "version": "3.7.4"
  }
 },
 "nbformat": 4,
 "nbformat_minor": 2
}
